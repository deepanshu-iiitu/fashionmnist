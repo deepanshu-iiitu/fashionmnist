{
  "nbformat": 4,
  "nbformat_minor": 0,
  "metadata": {
    "colab": {
      "name": "DEEP lEARNING WITH KERAS.ipynb",
      "version": "0.3.2",
      "provenance": [],
      "collapsed_sections": [],
      "toc_visible": true,
      "include_colab_link": true
    },
    "kernelspec": {
      "name": "python3",
      "display_name": "Python 3"
    },
    "accelerator": "GPU"
  },
  "cells": [
    {
      "cell_type": "markdown",
      "metadata": {
        "id": "view-in-github",
        "colab_type": "text"
      },
      "source": [
        "<a href=\"https://colab.research.google.com/github/veshitala/Basics-of-Unsupervised-learning/blob/master/DEEP_lEARNING_WITH_KERAS.ipynb\" target=\"_parent\"><img src=\"https://colab.research.google.com/assets/colab-badge.svg\" alt=\"Open In Colab\"/></a>"
      ]
    },
    {
      "metadata": {
        "id": "CxAkzwScLKzQ",
        "colab_type": "code",
        "outputId": "c305f678-7d4b-4891-b7a1-0fdfa61fd1f3",
        "colab": {
          "base_uri": "https://localhost:8080/",
          "height": 34
        }
      },
      "cell_type": "code",
      "source": [
        "#   Train a ConvNet on the MNIST fashion data.  This data consists of 10 classes of fashion images such\n",
        "#   as shorts, dresses, shoes, purses, etc.  These images replace the handwritten digits in the classic MNIST dataset.\n",
        "#   This change makes it harder to get a high score and more closely reflects real world usage of image \n",
        "#   classification.  And at the same time, is still small enough for the average PC to train in a short time.\n",
        "# See https://github.com/zalandoresearch/fashion-mnist for information and code on Fashion MNIST\n",
        "\n",
        "# This code is based on MNIST example found at Keras.io\n",
        "\n",
        "from __future__ import print_function\n",
        "import keras\n",
        "from keras.datasets import fashion_mnist  # new with Keras 2.1.2.  Yah!!\n",
        "from keras.models import Sequential\n",
        "from keras.layers import Dense, Dropout, Flatten\n",
        "from keras.layers import Conv2D, MaxPooling2D\n",
        "from keras import backend as K\n"
      ],
      "execution_count": 0,
      "outputs": [
        {
          "output_type": "stream",
          "text": [
            "Using TensorFlow backend.\n"
          ],
          "name": "stderr"
        }
      ]
    },
    {
      "metadata": {
        "id": "4gXwUMhsNkph",
        "colab_type": "code",
        "colab": {}
      },
      "cell_type": "code",
      "source": [
        "import matplotlib.pyplot as plt\n",
        "import numpy as np\n",
        "import seaborn as sns"
      ],
      "execution_count": 0,
      "outputs": []
    },
    {
      "metadata": {
        "id": "gjOfJk6vLOBI",
        "colab_type": "code",
        "outputId": "fd3dedad-8490-4ebd-8446-a90967f11541",
        "colab": {
          "base_uri": "https://localhost:8080/",
          "height": 158
        }
      },
      "cell_type": "code",
      "source": [
        "#   Supress warning and informational messages\n",
        "import os\n",
        "os.environ['TF_CPP_MIN_LOG_LEVEL'] = '3' \n",
        "\n",
        "# Number of classes - do not change unless the data changes\n",
        "num_classes = 10\n",
        "\n",
        "# sizes of batch and # of epochs of data\n",
        "batch_size = 128\n",
        "epochs = 24\n",
        "\n",
        "# input image dimensions\n",
        "img_rows, img_cols = 28, 28\n",
        "\n",
        "# the data, shuffled and split between train and test sets\n",
        "(x_train, y_train), (x_test, y_test) = fashion_mnist.load_data() "
      ],
      "execution_count": 0,
      "outputs": [
        {
          "output_type": "stream",
          "text": [
            "Downloading data from http://fashion-mnist.s3-website.eu-central-1.amazonaws.com/train-labels-idx1-ubyte.gz\n",
            "32768/29515 [=================================] - 0s 3us/step\n",
            "Downloading data from http://fashion-mnist.s3-website.eu-central-1.amazonaws.com/train-images-idx3-ubyte.gz\n",
            "26427392/26421880 [==============================] - 8s 0us/step\n",
            "Downloading data from http://fashion-mnist.s3-website.eu-central-1.amazonaws.com/t10k-labels-idx1-ubyte.gz\n",
            "8192/5148 [===============================================] - 0s 0us/step\n",
            "Downloading data from http://fashion-mnist.s3-website.eu-central-1.amazonaws.com/t10k-images-idx3-ubyte.gz\n",
            "4423680/4422102 [==============================] - 4s 1us/step\n"
          ],
          "name": "stdout"
        }
      ]
    },
    {
      "metadata": {
        "id": "6eU14gwSLkVT",
        "colab_type": "code",
        "colab": {}
      },
      "cell_type": "code",
      "source": [
        "#   Deal with format issues between different backends.  Some put the # of channels in the image before the width and height of image.\n",
        "if K.image_data_format() == 'channels_first':\n",
        "    x_train = x_train.reshape(x_train.shape[0], 1, img_rows, img_cols)\n",
        "    x_test = X_test.reshape(x_test.shape[0], 1, img_rows, img_cols)\n",
        "    input_shape = (1, img_rows, img_cols)\n",
        "else:\n",
        "    x_train = x_train.reshape(x_train.shape[0], img_rows, img_cols, 1)\n",
        "    x_test = x_test.reshape(x_test.shape[0], img_rows, img_cols, 1)\n",
        "    input_shape = (img_rows, img_cols, 1)\n"
      ],
      "execution_count": 0,
      "outputs": []
    },
    {
      "metadata": {
        "id": "lOjLWR2TLtMj",
        "colab_type": "code",
        "colab": {}
      },
      "cell_type": "code",
      "source": [
        "#   Type convert and scale the test and training data\n",
        "x_train = x_train.astype('float32')\n",
        "x_test = x_test.astype('float32')\n",
        "x_train /= 255\n",
        "x_test /= 255"
      ],
      "execution_count": 0,
      "outputs": []
    },
    {
      "metadata": {
        "id": "ywclracpL3sj",
        "colab_type": "code",
        "outputId": "8ae99323-b499-4e84-ee75-bc52f4e11e62",
        "colab": {
          "base_uri": "https://localhost:8080/",
          "height": 70
        }
      },
      "cell_type": "code",
      "source": [
        "print('x_train shape:', x_train.shape)\n",
        "print('x_test shape:', x_test.shape)\n",
        "\n",
        "print(y_train[:4])"
      ],
      "execution_count": 0,
      "outputs": [
        {
          "output_type": "stream",
          "text": [
            "x_train shape: (60000, 28, 28, 1)\n",
            "x_test shape: (10000, 28, 28, 1)\n",
            "[9 0 0 3]\n"
          ],
          "name": "stdout"
        }
      ]
    },
    {
      "metadata": {
        "id": "XffahzauN9DM",
        "colab_type": "code",
        "outputId": "58c03815-2c6c-49ba-d3de-eec4a5c65de2",
        "colab": {
          "base_uri": "https://localhost:8080/",
          "height": 34
        }
      },
      "cell_type": "code",
      "source": [
        "y_train"
      ],
      "execution_count": 0,
      "outputs": [
        {
          "output_type": "execute_result",
          "data": {
            "text/plain": [
              "array([9, 0, 0, ..., 3, 0, 5], dtype=uint8)"
            ]
          },
          "metadata": {
            "tags": []
          },
          "execution_count": 7
        }
      ]
    },
    {
      "metadata": {
        "id": "fD2QYAKjN_zR",
        "colab_type": "code",
        "outputId": "084ddab5-a868-4a0d-814c-4eed64ae3f71",
        "colab": {
          "base_uri": "https://localhost:8080/",
          "height": 34
        }
      },
      "cell_type": "code",
      "source": [
        "y_test"
      ],
      "execution_count": 0,
      "outputs": [
        {
          "output_type": "execute_result",
          "data": {
            "text/plain": [
              "array([9, 2, 1, ..., 8, 1, 5], dtype=uint8)"
            ]
          },
          "metadata": {
            "tags": []
          },
          "execution_count": 8
        }
      ]
    },
    {
      "metadata": {
        "id": "9L4J4gpMMBlq",
        "colab_type": "code",
        "outputId": "86e2c7dc-d64b-443a-f85b-1ccd5670ed96",
        "colab": {
          "base_uri": "https://localhost:8080/",
          "height": 702
        }
      },
      "cell_type": "code",
      "source": [
        "w=10\n",
        "h=10\n",
        "fig=plt.figure(figsize=(12, 12))\n",
        "columns = 4\n",
        "rows = 5\n",
        "for i in range(1, columns*rows +1):\n",
        "    img = np.random.randint(100)\n",
        "    fig.add_subplot(rows, columns, i)\n",
        "    plt.imshow(x_train[img][: ,: ,0])\n",
        "plt.show()\n",
        "\n",
        "#plt.imshow(x_train[1][: ,: ,0])"
      ],
      "execution_count": 0,
      "outputs": [
        {
          "output_type": "display_data",
          "data": {
            "image/png": "[encoded data removed]",
            "text/plain": [
              "<matplotlib.figure.Figure at 0x7fc31e0a1cc0>"
            ]
          },
          "metadata": {
            "tags": []
          }
        }
      ]
    },
    {
      "metadata": {
        "id": "FsFi4qZENtU0",
        "colab_type": "code",
        "colab": {}
      },
      "cell_type": "code",
      "source": [
        "# convert class vectors to binary class matrices.  One-hot encoding\n",
        "#  3 => 0 0 0 1 0 0 0 0 0 0 and 1 => 0 1 0 0 0 0 0 0 0 0 \n",
        "y_train = keras.utils.to_categorical(y_train, num_classes)\n",
        "y_test = keras.utils.to_categorical(y_test, num_classes)"
      ],
      "execution_count": 0,
      "outputs": []
    },
    {
      "metadata": {
        "id": "8zxAsAi6N7vb",
        "colab_type": "code",
        "outputId": "d03c3c96-e50f-4e66-c4f4-017dcc9e263c",
        "colab": {
          "base_uri": "https://localhost:8080/",
          "height": 140
        }
      },
      "cell_type": "code",
      "source": [
        "display(y_train)"
      ],
      "execution_count": 0,
      "outputs": [
        {
          "output_type": "display_data",
          "data": {
            "text/plain": [
              "array([[0., 0., 0., ..., 0., 0., 1.],\n",
              "       [1., 0., 0., ..., 0., 0., 0.],\n",
              "       [1., 0., 0., ..., 0., 0., 0.],\n",
              "       ...,\n",
              "       [0., 0., 0., ..., 0., 0., 0.],\n",
              "       [1., 0., 0., ..., 0., 0., 0.],\n",
              "       [0., 0., 0., ..., 0., 0., 0.]], dtype=float32)"
            ]
          },
          "metadata": {
            "tags": []
          }
        }
      ]
    },
    {
      "metadata": {
        "id": "AYaY5T2yOJdd",
        "colab_type": "code",
        "outputId": "c363c7bd-ffcc-4d48-be24-c382745e48e8",
        "colab": {
          "base_uri": "https://localhost:8080/",
          "height": 140
        }
      },
      "cell_type": "code",
      "source": [
        "display(y_test)"
      ],
      "execution_count": 0,
      "outputs": [
        {
          "output_type": "display_data",
          "data": {
            "text/plain": [
              "array([[0., 0., 0., ..., 0., 0., 1.],\n",
              "       [0., 0., 1., ..., 0., 0., 0.],\n",
              "       [0., 1., 0., ..., 0., 0., 0.],\n",
              "       ...,\n",
              "       [0., 0., 0., ..., 0., 1., 0.],\n",
              "       [0., 1., 0., ..., 0., 0., 0.],\n",
              "       [0., 0., 0., ..., 0., 0., 0.]], dtype=float32)"
            ]
          },
          "metadata": {
            "tags": []
          }
        }
      ]
    },
    {
      "metadata": {
        "id": "M3PEF14QOoMd",
        "colab_type": "code",
        "colab": {}
      },
      "cell_type": "code",
      "source": [
        "model = Sequential()\n",
        "\n",
        "model.add(Conv2D(32, kernel_size=(3, 3),activation='relu', input_shape=input_shape))\n",
        "\n",
        "\n",
        "model.add(MaxPooling2D(pool_size=(2, 2)))\n",
        "model.add(Conv2D(32, (3, 3), activation='relu'))\n",
        "model.add(MaxPooling2D(pool_size=(2, 2)))\n",
        "model.add(Flatten())\n",
        "model.add(Dense(128, activation='relu'))\n",
        "model.add(Dropout(0.5))\n",
        "model.add(Dense(num_classes, activation='softmax'))\n",
        "\n",
        "                "
      ],
      "execution_count": 0,
      "outputs": []
    },
    {
      "metadata": {
        "id": "KiblMz7NSHPI",
        "colab_type": "code",
        "colab": {}
      },
      "cell_type": "code",
      "source": [
        "#   define compile to minimize categorical loss, use ada delta optimized, and optimize to maximizing accuracy\n",
        "model.compile(loss=keras.losses.categorical_crossentropy,\n",
        "              optimizer=keras.optimizers.Adadelta(),\n",
        "              metrics=['accuracy'])"
      ],
      "execution_count": 0,
      "outputs": []
    },
    {
      "metadata": {
        "id": "VCsMSWqoSUcu",
        "colab_type": "code",
        "outputId": "490109b4-5eb5-4735-b05c-613ea887f66f",
        "colab": {
          "base_uri": "https://localhost:8080/",
          "height": 879
        }
      },
      "cell_type": "code",
      "source": [
        "hist = model.fit(x_train, y_train,\n",
        "          batch_size=batch_size,\n",
        "          epochs=epochs,\n",
        "          verbose=1,\n",
        "          validation_data=(x_test, y_test))"
      ],
      "execution_count": 0,
      "outputs": [
        {
          "output_type": "stream",
          "text": [
            "Train on 60000 samples, validate on 10000 samples\n",
            "Epoch 1/24\n",
            "60000/60000 [==============================] - 8s 136us/step - loss: 0.6934 - acc: 0.7472 - val_loss: 0.4461 - val_acc: 0.8382\n",
            "Epoch 2/24\n",
            "60000/60000 [==============================] - 6s 105us/step - loss: 0.4330 - acc: 0.8443 - val_loss: 0.4076 - val_acc: 0.8452\n",
            "Epoch 3/24\n",
            "60000/60000 [==============================] - 6s 104us/step - loss: 0.3752 - acc: 0.8656 - val_loss: 0.3332 - val_acc: 0.8786\n",
            "Epoch 4/24\n",
            "60000/60000 [==============================] - 6s 104us/step - loss: 0.3431 - acc: 0.8758 - val_loss: 0.3244 - val_acc: 0.8844\n",
            "Epoch 5/24\n",
            "60000/60000 [==============================] - 6s 105us/step - loss: 0.3233 - acc: 0.8834 - val_loss: 0.3125 - val_acc: 0.8884\n",
            "Epoch 6/24\n",
            "60000/60000 [==============================] - 6s 105us/step - loss: 0.3027 - acc: 0.8902 - val_loss: 0.3141 - val_acc: 0.8874\n",
            "Epoch 7/24\n",
            "60000/60000 [==============================] - 6s 106us/step - loss: 0.2890 - acc: 0.8956 - val_loss: 0.2947 - val_acc: 0.8935\n",
            "Epoch 8/24\n",
            "60000/60000 [==============================] - 6s 105us/step - loss: 0.2787 - acc: 0.8995 - val_loss: 0.2822 - val_acc: 0.8988\n",
            "Epoch 9/24\n",
            "60000/60000 [==============================] - 6s 106us/step - loss: 0.2658 - acc: 0.9028 - val_loss: 0.2821 - val_acc: 0.9002\n",
            "Epoch 10/24\n",
            "60000/60000 [==============================] - 6s 106us/step - loss: 0.2582 - acc: 0.9071 - val_loss: 0.2708 - val_acc: 0.9033\n",
            "Epoch 11/24\n",
            "60000/60000 [==============================] - 6s 107us/step - loss: 0.2498 - acc: 0.9094 - val_loss: 0.2701 - val_acc: 0.9000\n",
            "Epoch 12/24\n",
            "60000/60000 [==============================] - 6s 106us/step - loss: 0.2404 - acc: 0.9131 - val_loss: 0.2726 - val_acc: 0.9019\n",
            "Epoch 13/24\n",
            "60000/60000 [==============================] - 6s 106us/step - loss: 0.2334 - acc: 0.9157 - val_loss: 0.2568 - val_acc: 0.9061\n",
            "Epoch 14/24\n",
            "60000/60000 [==============================] - 6s 107us/step - loss: 0.2282 - acc: 0.9172 - val_loss: 0.2590 - val_acc: 0.9082\n",
            "Epoch 15/24\n",
            "60000/60000 [==============================] - 6s 107us/step - loss: 0.2192 - acc: 0.9197 - val_loss: 0.2488 - val_acc: 0.9080\n",
            "Epoch 16/24\n",
            "60000/60000 [==============================] - 6s 107us/step - loss: 0.2153 - acc: 0.9224 - val_loss: 0.2497 - val_acc: 0.9099\n",
            "Epoch 17/24\n",
            "60000/60000 [==============================] - 6s 107us/step - loss: 0.2108 - acc: 0.9227 - val_loss: 0.2549 - val_acc: 0.9120\n",
            "Epoch 18/24\n",
            "60000/60000 [==============================] - 6s 106us/step - loss: 0.2061 - acc: 0.9245 - val_loss: 0.2716 - val_acc: 0.9031\n",
            "Epoch 19/24\n",
            "60000/60000 [==============================] - 6s 106us/step - loss: 0.2012 - acc: 0.9258 - val_loss: 0.2538 - val_acc: 0.9122\n",
            "Epoch 20/24\n",
            "60000/60000 [==============================] - 6s 104us/step - loss: 0.1983 - acc: 0.9267 - val_loss: 0.2432 - val_acc: 0.9141\n",
            "Epoch 21/24\n",
            "60000/60000 [==============================] - 6s 105us/step - loss: 0.1939 - acc: 0.9294 - val_loss: 0.2509 - val_acc: 0.9108\n",
            "Epoch 22/24\n",
            "60000/60000 [==============================] - 6s 106us/step - loss: 0.1883 - acc: 0.9303 - val_loss: 0.2552 - val_acc: 0.9099\n",
            "Epoch 23/24\n",
            "60000/60000 [==============================] - 6s 105us/step - loss: 0.1850 - acc: 0.9308 - val_loss: 0.2689 - val_acc: 0.9128\n",
            "Epoch 24/24\n",
            "60000/60000 [==============================] - 6s 106us/step - loss: 0.1802 - acc: 0.9335 - val_loss: 0.2440 - val_acc: 0.9155\n"
          ],
          "name": "stdout"
        }
      ]
    },
    {
      "metadata": {
        "id": "-pIFfcuoRiDm",
        "colab_type": "code",
        "colab": {}
      },
      "cell_type": "code",
      "source": [
        "val_accuracy = hist.history['val_acc']\n",
        "accuracy = hist.history['acc']\n",
        "val_loss = hist.history['loss']\n"
      ],
      "execution_count": 0,
      "outputs": []
    },
    {
      "metadata": {
        "id": "81X_6l4xRt8g",
        "colab_type": "code",
        "outputId": "bb11d030-e89c-4089-9222-4236a287b869",
        "colab": {
          "base_uri": "https://localhost:8080/",
          "height": 347
        }
      },
      "cell_type": "code",
      "source": [
        "plt.plot(val_accuracy , label  = 'validation accuracy')\n",
        "\n",
        "plt.plot(accuracy , label = 'model accuracy')\n",
        "\n",
        "plt.plot(val_loss , label = 'validation loss')\n",
        "plt.legend()\n",
        "plt.show()"
      ],
      "execution_count": 0,
      "outputs": [
        {
          "output_type": "display_data",
          "data": {
            "image/png": "[encoded data removed]",
            "text/plain": [
              "<matplotlib.figure.Figure at 0x7fc28842b208>"
            ]
          },
          "metadata": {
            "tags": []
          }
        }
      ]
    },
    {
      "metadata": {
        "id": "-1iBZrVjSnza",
        "colab_type": "code",
        "colab": {}
      },
      "cell_type": "code",
      "source": [
        "score = model.evaluate(x_test, y_test, verbose=0)"
      ],
      "execution_count": 0,
      "outputs": []
    },
    {
      "metadata": {
        "id": "JQXYluuhRoKE",
        "colab_type": "code",
        "outputId": "54a4f527-5d13-41df-fa85-8b882ed057ea",
        "colab": {
          "base_uri": "https://localhost:8080/",
          "height": 52
        }
      },
      "cell_type": "code",
      "source": [
        "print('accuracy: ',score[1])\n",
        "print('loss: ',score[0])"
      ],
      "execution_count": 0,
      "outputs": [
        {
          "output_type": "stream",
          "text": [
            "accuracy:  0.9155\n",
            "loss:  0.24396675983071328\n"
          ],
          "name": "stdout"
        }
      ]
    },
    {
      "metadata": {
        "id": "v7pRyjsaRkTn",
        "colab_type": "code",
        "colab": {}
      },
      "cell_type": "code",
      "source": [
        "test = x_test[0]\n"
      ],
      "execution_count": 0,
      "outputs": []
    },
    {
      "metadata": {
        "id": "jsGIkhSYU4M9",
        "colab_type": "code",
        "colab": {}
      },
      "cell_type": "code",
      "source": [
        "test = test.reshape(1,28 ,28,1)"
      ],
      "execution_count": 0,
      "outputs": []
    },
    {
      "metadata": {
        "id": "bULFf5jKVFX4",
        "colab_type": "code",
        "outputId": "b6dab8b1-113b-4ccf-b108-fb9b7379d020",
        "colab": {
          "base_uri": "https://localhost:8080/",
          "height": 34
        }
      },
      "cell_type": "code",
      "source": [
        "test.shape"
      ],
      "execution_count": 0,
      "outputs": [
        {
          "output_type": "execute_result",
          "data": {
            "text/plain": [
              "(1, 28, 28, 1)"
            ]
          },
          "metadata": {
            "tags": []
          },
          "execution_count": 37
        }
      ]
    },
    {
      "metadata": {
        "id": "kqqewG5wVSrs",
        "colab_type": "code",
        "outputId": "3abd9123-ab91-4f4d-cf4e-3947dd9b5331",
        "colab": {
          "base_uri": "https://localhost:8080/",
          "height": 34
        }
      },
      "cell_type": "code",
      "source": [
        "model.predict(test).argmax()"
      ],
      "execution_count": 0,
      "outputs": [
        {
          "output_type": "execute_result",
          "data": {
            "text/plain": [
              "9"
            ]
          },
          "metadata": {
            "tags": []
          },
          "execution_count": 43
        }
      ]
    },
    {
      "metadata": {
        "id": "31xcbaH8VfB3",
        "colab_type": "code",
        "outputId": "4545ebdb-417f-4923-fba0-d1206d36f25c",
        "colab": {
          "base_uri": "https://localhost:8080/",
          "height": 34
        }
      },
      "cell_type": "code",
      "source": [
        "y_test[0]"
      ],
      "execution_count": 0,
      "outputs": [
        {
          "output_type": "execute_result",
          "data": {
            "text/plain": [
              "array([0., 0., 0., 0., 0., 0., 0., 0., 0., 1.], dtype=float32)"
            ]
          },
          "metadata": {
            "tags": []
          },
          "execution_count": 44
        }
      ]
    },
    {
      "metadata": {
        "id": "mexE1WxIVZnh",
        "colab_type": "code",
        "colab": {}
      },
      "cell_type": "code",
      "source": [
        ""
      ],
      "execution_count": 0,
      "outputs": []
    }
  ]
}